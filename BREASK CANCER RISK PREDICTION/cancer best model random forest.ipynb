{
 "cells": [
  {
   "cell_type": "markdown",
   "id": "1170ce7f-e3bf-4996-be52-4919e97e0482",
   "metadata": {
    "id": "1170ce7f-e3bf-4996-be52-4919e97e0482"
   },
   "source": [
    "## Step 1: Import Libraries"
   ]
  },
  {
   "cell_type": "code",
   "execution_count": 2,
   "id": "68d8ed9a-6851-4aef-b608-8e3199176248",
   "metadata": {
    "executionInfo": {
     "elapsed": 1158,
     "status": "ok",
     "timestamp": 1743957741304,
     "user": {
      "displayName": "Akhil Koroth",
      "userId": "17131395894339558546"
     },
     "user_tz": -330
    },
    "id": "68d8ed9a-6851-4aef-b608-8e3199176248"
   },
   "outputs": [],
   "source": [
    "import pandas as pd\n",
    "import numpy as np\n",
    "import joblib\n",
    "import matplotlib.pyplot as plt\n",
    "import seaborn as sns\n",
    "from sklearn.model_selection import train_test_split\n",
    "from sklearn.preprocessing import StandardScaler, LabelEncoder, OneHotEncoder\n",
    "from sklearn.linear_model import LogisticRegression\n",
    "from sklearn.tree import DecisionTreeClassifier\n",
    "from sklearn.svm import SVC\n",
    "from sklearn.neighbors import KNeighborsClassifier\n",
    "from sklearn.ensemble import RandomForestClassifier\n",
    "from sklearn.model_selection import GridSearchCV\n",
    "from lifelines import KaplanMeierFitter, CoxPHFitter \n",
    "from sklearn.feature_selection import SelectKBest, f_classif\n",
    "from sklearn.metrics import classification_report, confusion_matrix, accuracy_score, roc_auc_score, roc_curve, auc\n",
    "from scipy.stats import ttest_ind, f_oneway, chi2_contingency\n",
    "import warnings"
   ]
  },
  {
   "cell_type": "markdown",
   "id": "5a832f80-78be-4b9b-8eec-a17e15cc6f9b",
   "metadata": {
    "id": "5a832f80-78be-4b9b-8eec-a17e15cc6f9b"
   },
   "source": [
    "## Step 2: Load and Explore the Dataset"
   ]
  },
  {
   "cell_type": "code",
   "execution_count": 4,
   "id": "d664b849-f46e-4fc3-9424-e8bdb12bbfb1",
   "metadata": {
    "executionInfo": {
     "elapsed": 1,
     "status": "ok",
     "timestamp": 1743957741307,
     "user": {
      "displayName": "Akhil Koroth",
      "userId": "17131395894339558546"
     },
     "user_tz": -330
    },
    "id": "d664b849-f46e-4fc3-9424-e8bdb12bbfb1"
   },
   "outputs": [],
   "source": [
    "data = pd.read_csv(r\"C:\\Users\\AKHILK\\Downloads\\Breast Cancer METABRIC.csv\")"
   ]
  },
  {
   "cell_type": "code",
   "execution_count": null,
   "id": "c535bba1-ed6a-4a70-96f3-a592d632c9aa",
   "metadata": {},
   "outputs": [],
   "source": []
  },
  {
   "cell_type": "code",
   "execution_count": 37,
   "id": "ab4dbdd5-751b-45db-8ba6-4aeab92d8cff",
   "metadata": {},
   "outputs": [],
   "source": [
    "# rounding age column\n",
    "data[\"Age at Diagnosis\"] = data[\"Age at Diagnosis\"].astype(float).round()"
   ]
  },
  {
   "cell_type": "code",
   "execution_count": 6,
   "id": "bd5441d9-b7dc-4d5c-9d81-00d44d63029d",
   "metadata": {},
   "outputs": [],
   "source": [
    "# Filling missing values\n",
    "for col in data.columns:\n",
    "    if data[col].dtype == \"object\":\n",
    "        data[col] = data[col].fillna(data[col].mode()[0])\n",
    "    else:\n",
    "        data[col] = data[col].fillna(data[col].median())"
   ]
  },
  {
   "cell_type": "code",
   "execution_count": 7,
   "id": "812b5654-a6d1-48d6-9aec-7e50c127556c",
   "metadata": {},
   "outputs": [],
   "source": [
    "# Handling outliers\n",
    "num_cols = data.select_dtypes(include=['number']).columns\n",
    "for col in num_cols:\n",
    "    Q1 = data[col].quantile(0.25)\n",
    "    Q3 = data[col].quantile(0.75)\n",
    "    IQR = Q3 - Q1\n",
    "    lower_bound = Q1 - 1.5 * IQR\n",
    "    upper_bound = Q3 + 1.5 * IQR\n",
    "    data[col] = np.clip(data[col], lower_bound, upper_bound)"
   ]
  },
  {
   "cell_type": "code",
   "execution_count": null,
   "id": "60ff0e2a-4fbd-4a27-a709-ccc5abe1879b",
   "metadata": {},
   "outputs": [],
   "source": []
  },
  {
   "cell_type": "code",
   "execution_count": 8,
   "id": "c5f53d86-e987-413c-82a5-9a0eea78fe43",
   "metadata": {},
   "outputs": [],
   "source": [
    "# Label encoding for categorical features\n",
    "cat_cols = data.select_dtypes(include=['object']).columns\n",
    "label_encoder = LabelEncoder()\n",
    "for col in cat_cols:\n",
    "    data[col] = label_encoder.fit_transform(data[col])\n"
   ]
  },
  {
   "cell_type": "code",
   "execution_count": null,
   "id": "ec381d9a-88f1-4a5d-84d6-812d8bb7d4f4",
   "metadata": {},
   "outputs": [],
   "source": []
  },
  {
   "cell_type": "code",
   "execution_count": 9,
   "id": "18569f1e-0d7b-4b8d-bcca-de7024e89b70",
   "metadata": {},
   "outputs": [],
   "source": [
    "# Feature selection\n",
    "selected_features = [\n",
    "    \"Age at Diagnosis\", \"Cancer_type_Detailed\", \"Cancer Type\",\n",
    "    \"Type of Breast Surgery\", \"Cellularity\", \"Cohort\",\n",
    "    \"Patient ID\", \"Chemotherapy\"\n",
    "]"
   ]
  },
  {
   "cell_type": "code",
   "execution_count": 10,
   "id": "9bc95825-ef8e-40f6-ace2-cfec27d70499",
   "metadata": {},
   "outputs": [],
   "source": [
    "X = data[selected_features]\n",
    "y = data[\"Overall Survival Status\"]"
   ]
  },
  {
   "cell_type": "code",
   "execution_count": 11,
   "id": "f3c48d86-3841-4480-b437-1b95bb26ad4b",
   "metadata": {},
   "outputs": [],
   "source": [
    "# Train-test split\n",
    "X_train, X_test, y_train, y_test = train_test_split(X, y, test_size=0.2, random_state=42)"
   ]
  },
  {
   "cell_type": "code",
   "execution_count": 12,
   "id": "e3babb99-98d3-4ee1-b534-af1744f0fce6",
   "metadata": {},
   "outputs": [],
   "source": [
    "# Scaling\n",
    "scaler = StandardScaler()\n",
    "X_train = scaler.fit_transform(X_train)\n",
    "X_test = scaler.transform(X_test)\n"
   ]
  },
  {
   "cell_type": "code",
   "execution_count": 13,
   "id": "27fa985b-fe33-4a3f-9280-e27231d85c9d",
   "metadata": {},
   "outputs": [],
   "source": [
    "# Random Forest model with GridSearchCV\n",
    "param_grid = {\n",
    "    'n_estimators': [100, 200],\n",
    "    'max_depth': [None, 10, 20],\n",
    "    'min_samples_split': [2, 5],\n",
    "}\n",
    "rf = GridSearchCV(RandomForestClassifier(random_state=42), param_grid, cv=5, n_jobs=-1)\n",
    "rf.fit(X_train, y_train)\n",
    "y_pred_rf = rf.predict(X_test)"
   ]
  },
  {
   "cell_type": "code",
   "execution_count": null,
   "id": "8abbc9e1-97b0-44bd-a5de-b982f3c889b9",
   "metadata": {},
   "outputs": [],
   "source": []
  },
  {
   "cell_type": "code",
   "execution_count": 14,
   "id": "59181f8f",
   "metadata": {},
   "outputs": [
    {
     "name": "stdout",
     "output_type": "stream",
     "text": [
      "--- Random Forest ---\n",
      "Accuracy: 0.7609561752988048\n",
      "              precision    recall  f1-score   support\n",
      "\n",
      "           0       0.80      0.87      0.83       342\n",
      "           1       0.65      0.54      0.59       160\n",
      "\n",
      "    accuracy                           0.76       502\n",
      "   macro avg       0.73      0.70      0.71       502\n",
      "weighted avg       0.75      0.76      0.75       502\n",
      "\n"
     ]
    },
    {
     "data": {
      "text/plain": [
       "['C:\\\\Users\\\\AKHILK\\\\BIA\\\\Capstone\\\\label_encoders.joblib']"
      ]
     },
     "execution_count": 14,
     "metadata": {},
     "output_type": "execute_result"
    }
   ],
   "source": [
    "# Evaluation\n",
    "print(\"--- Random Forest ---\")\n",
    "print(\"Accuracy:\", accuracy_score(y_test, y_pred_rf))\n",
    "print(classification_report(y_test, y_pred_rf))\n",
    "\n",
    "# Save the model, scaler, and label encoder\n",
    "joblib.dump(rf, r\"C:\\Users\\AKHILK\\BIA\\Capstone\\Random_Forest.joblib\")\n",
    "joblib.dump(scaler, r\"C:\\Users\\AKHILK\\BIA\\Capstone\\scaler.joblib\")\n",
    "joblib.dump(label_encoder, r\"C:\\Users\\AKHILK\\BIA\\Capstone\\label_encoders.joblib\")\n"
   ]
  },
  {
   "cell_type": "code",
   "execution_count": null,
   "id": "ba5bbb54-065d-4945-adc1-8b8eb7370d7d",
   "metadata": {},
   "outputs": [],
   "source": []
  },
  {
   "cell_type": "code",
   "execution_count": 15,
   "id": "6e3d9c77-aed2-4c46-ad23-e2b8b96a4f1f",
   "metadata": {},
   "outputs": [
    {
     "data": {
      "image/png": "[encoded data removed]",
      "text/plain": [
       "<Figure size 640x480 with 1 Axes>"
      ]
     },
     "metadata": {},
     "output_type": "display_data"
    }
   ],
   "source": [
    "# Kaplan-Meier Survival Curve\n",
    "kmf = KaplanMeierFitter()\n",
    "kmf.fit(durations=data['Overall_Survival_Months'], event_observed=data['Overall Survival Status'])\n",
    "kmf.plot()\n",
    "plt.title('Kaplan-Meier Survival Curve')\n",
    "plt.xlabel('Time (Months)')\n",
    "plt.ylabel('Survival Probability')\n",
    "plt.show()\n",
    "\n",
    "\n"
   ]
  },
  {
   "cell_type": "code",
   "execution_count": 16,
   "id": "fc39860d-00ab-4074-8e73-4fbbe51d3cdf",
   "metadata": {},
   "outputs": [
    {
     "data": {
      "text/html": [
       "<div>\n",
       "<style scoped>\n",
       "    .dataframe tbody tr th:only-of-type {\n",
       "        vertical-align: middle;\n",
       "    }\n",
       "\n",
       "    .dataframe tbody tr th {\n",
       "        vertical-align: top;\n",
       "    }\n",
       "\n",
       "    .dataframe thead th {\n",
       "        text-align: right;\n",
       "    }\n",
       "</style>\n",
       "<table border=\"1\" class=\"dataframe\">\n",
       "  <tbody>\n",
       "    <tr>\n",
       "      <th>model</th>\n",
       "      <td>lifelines.CoxPHFitter</td>\n",
       "    </tr>\n",
       "    <tr>\n",
       "      <th>duration col</th>\n",
       "      <td>'Overall_Survival_Months'</td>\n",
       "    </tr>\n",
       "    <tr>\n",
       "      <th>event col</th>\n",
       "      <td>'Overall Survival Status'</td>\n",
       "    </tr>\n",
       "    <tr>\n",
       "      <th>baseline estimation</th>\n",
       "      <td>breslow</td>\n",
       "    </tr>\n",
       "    <tr>\n",
       "      <th>number of observations</th>\n",
       "      <td>2509</td>\n",
       "    </tr>\n",
       "    <tr>\n",
       "      <th>number of events observed</th>\n",
       "      <td>837</td>\n",
       "    </tr>\n",
       "    <tr>\n",
       "      <th>partial log-likelihood</th>\n",
       "      <td>-5284.03</td>\n",
       "    </tr>\n",
       "    <tr>\n",
       "      <th>time fit was run</th>\n",
       "      <td>2025-04-14 17:57:36 UTC</td>\n",
       "    </tr>\n",
       "  </tbody>\n",
       "</table>\n",
       "</div><table border=\"1\" class=\"dataframe\">\n",
       "  <thead>\n",
       "    <tr style=\"text-align: right;\">\n",
       "      <th style=\"min-width: 12px;\"></th>\n",
       "      <th style=\"min-width: 12px;\">coef</th>\n",
       "      <th style=\"min-width: 12px;\">exp(coef)</th>\n",
       "      <th style=\"min-width: 12px;\">se(coef)</th>\n",
       "      <th style=\"min-width: 12px;\">coef lower 95%</th>\n",
       "      <th style=\"min-width: 12px;\">coef upper 95%</th>\n",
       "      <th style=\"min-width: 12px;\">exp(coef) lower 95%</th>\n",
       "      <th style=\"min-width: 12px;\">exp(coef) upper 95%</th>\n",
       "      <th style=\"min-width: 12px;\">cmp to</th>\n",
       "      <th style=\"min-width: 12px;\">z</th>\n",
       "      <th style=\"min-width: 12px;\">p</th>\n",
       "      <th style=\"min-width: 12px;\">-log2(p)</th>\n",
       "    </tr>\n",
       "  </thead>\n",
       "  <tbody>\n",
       "    <tr>\n",
       "      <th>Age at Diagnosis</th>\n",
       "      <td>-0.01</td>\n",
       "      <td>0.99</td>\n",
       "      <td>0.00</td>\n",
       "      <td>-0.01</td>\n",
       "      <td>-0.00</td>\n",
       "      <td>0.99</td>\n",
       "      <td>1.00</td>\n",
       "      <td>0.00</td>\n",
       "      <td>-3.14</td>\n",
       "      <td>&lt;0.005</td>\n",
       "      <td>9.22</td>\n",
       "    </tr>\n",
       "  </tbody>\n",
       "</table><br><div>\n",
       "<style scoped>\n",
       "    .dataframe tbody tr th:only-of-type {\n",
       "        vertical-align: middle;\n",
       "    }\n",
       "\n",
       "    .dataframe tbody tr th {\n",
       "        vertical-align: top;\n",
       "    }\n",
       "\n",
       "    .dataframe thead th {\n",
       "        text-align: right;\n",
       "    }\n",
       "</style>\n",
       "<table border=\"1\" class=\"dataframe\">\n",
       "  <tbody>\n",
       "    <tr>\n",
       "      <th>Concordance</th>\n",
       "      <td>0.53</td>\n",
       "    </tr>\n",
       "    <tr>\n",
       "      <th>Partial AIC</th>\n",
       "      <td>10570.06</td>\n",
       "    </tr>\n",
       "    <tr>\n",
       "      <th>log-likelihood ratio test</th>\n",
       "      <td>9.83 on 1 df</td>\n",
       "    </tr>\n",
       "    <tr>\n",
       "      <th>-log2(p) of ll-ratio test</th>\n",
       "      <td>9.19</td>\n",
       "    </tr>\n",
       "  </tbody>\n",
       "</table>\n",
       "</div>"
      ],
      "text/latex": [
       "\\begin{tabular}{lrrrrrrrrrrr}\n",
       " & coef & exp(coef) & se(coef) & coef lower 95% & coef upper 95% & exp(coef) lower 95% & exp(coef) upper 95% & cmp to & z & p & -log2(p) \\\\\n",
       "covariate &  &  &  &  &  &  &  &  &  &  &  \\\\\n",
       "Age at Diagnosis & -0.01 & 0.99 & 0.00 & -0.01 & -0.00 & 0.99 & 1.00 & 0.00 & -3.14 & 0.00 & 9.22 \\\\\n",
       "\\end{tabular}\n"
      ],
      "text/plain": [
       "<lifelines.CoxPHFitter: fitted with 2509 total observations, 1672 right-censored observations>\n",
       "             duration col = 'Overall_Survival_Months'\n",
       "                event col = 'Overall Survival Status'\n",
       "      baseline estimation = breslow\n",
       "   number of observations = 2509\n",
       "number of events observed = 837\n",
       "   partial log-likelihood = -5284.03\n",
       "         time fit was run = 2025-04-14 17:57:36 UTC\n",
       "\n",
       "---\n",
       "                  coef exp(coef)  se(coef)  coef lower 95%  coef upper 95% exp(coef) lower 95% exp(coef) upper 95%\n",
       "covariate                                                                                                         \n",
       "Age at Diagnosis -0.01      0.99      0.00           -0.01           -0.00                0.99                1.00\n",
       "\n",
       "                  cmp to     z      p  -log2(p)\n",
       "covariate                                      \n",
       "Age at Diagnosis    0.00 -3.14 <0.005      9.22\n",
       "---\n",
       "Concordance = 0.53\n",
       "Partial AIC = 10570.06\n",
       "log-likelihood ratio test = 9.83 on 1 df\n",
       "-log2(p) of ll-ratio test = 9.19"
      ]
     },
     "metadata": {},
     "output_type": "display_data"
    },
    {
     "data": {
      "image/png": "[encoded data removed]",
      "text/plain": [
       "<Figure size 640x480 with 1 Axes>"
      ]
     },
     "metadata": {},
     "output_type": "display_data"
    }
   ],
   "source": [
    "# Cox Proportional Hazards Model\n",
    "cph = CoxPHFitter()\n",
    "# Select relevant features for Cox model. \n",
    "cox_features = ['Age at Diagnosis', 'Overall_Survival_Months','Overall Survival Status'] # Add other features.\n",
    "cph.fit(data[cox_features], duration_col='Overall_Survival_Months', event_col='Overall Survival Status')\n",
    "cph.print_summary()\n",
    "\n",
    "# Plot Cox model coefficients\n",
    "cph.plot()\n",
    "plt.title('Cox Proportional Hazards Model Coefficients')\n",
    "plt.show()"
   ]
  }
 ],
 "metadata": {
  "colab": {
   "provenance": []
  },
  "kernelspec": {
   "display_name": "Python 3 (ipykernel)",
   "language": "python",
   "name": "python3"
  },
  "language_info": {
   "codemirror_mode": {
    "name": "ipython",
    "version": 3
   },
   "file_extension": ".py",
   "mimetype": "text/x-python",
   "name": "python",
   "nbconvert_exporter": "python",
   "pygments_lexer": "ipython3",
   "version": "3.12.7"
  }
 },
 "nbformat": 4,
 "nbformat_minor": 5
}
