{
 "cells": [
  {
   "cell_type": "markdown",
   "id": "1170ce7f-e3bf-4996-be52-4919e97e0482",
   "metadata": {
    "id": "1170ce7f-e3bf-4996-be52-4919e97e0482"
   },
   "source": [
    "## Step 1: Import Libraries"
   ]
  },
  {
   "cell_type": "code",
   "execution_count": 2,
   "id": "68d8ed9a-6851-4aef-b608-8e3199176248",
   "metadata": {
    "executionInfo": {
     "elapsed": 1158,
     "status": "ok",
     "timestamp": 1743957741304,
     "user": {
      "displayName": "Akhil Koroth",
      "userId": "17131395894339558546"
     },
     "user_tz": -330
    },
    "id": "68d8ed9a-6851-4aef-b608-8e3199176248"
   },
   "outputs": [],
   "source": [
    "import pandas as pd\n",
    "import numpy as np\n",
    "import matplotlib.pyplot as plt\n",
    "import seaborn as sns\n",
    "from sklearn.model_selection import train_test_split\n",
    "from sklearn.preprocessing import StandardScaler, LabelEncoder, OneHotEncoder\n",
    "from sklearn.linear_model import LogisticRegression\n",
    "from sklearn.tree import DecisionTreeClassifier\n",
    "from sklearn.svm import SVC\n",
    "from sklearn.neighbors import KNeighborsClassifier\n",
    "from sklearn.ensemble import RandomForestClassifier\n",
    "\n",
    "from sklearn.feature_selection import SelectKBest, f_classif\n",
    "from sklearn.metrics import classification_report, confusion_matrix, accuracy_score, roc_auc_score, roc_curve, auc\n",
    "from scipy.stats import ttest_ind, f_oneway, chi2_contingency\n",
    "import warnings"
   ]
  },
  {
   "cell_type": "markdown",
   "id": "5a832f80-78be-4b9b-8eec-a17e15cc6f9b",
   "metadata": {
    "id": "5a832f80-78be-4b9b-8eec-a17e15cc6f9b"
   },
   "source": [
    "## Step 2: Load and Explore the Dataset"
   ]
  },
  {
   "cell_type": "code",
   "execution_count": 4,
   "id": "d664b849-f46e-4fc3-9424-e8bdb12bbfb1",
   "metadata": {
    "executionInfo": {
     "elapsed": 1,
     "status": "ok",
     "timestamp": 1743957741307,
     "user": {
      "displayName": "Akhil Koroth",
      "userId": "17131395894339558546"
     },
     "user_tz": -330
    },
    "id": "d664b849-f46e-4fc3-9424-e8bdb12bbfb1"
   },
   "outputs": [],
   "source": [
    "data = pd.read_csv(r\"C:\\Users\\AKHILK\\Downloads\\Breast Cancer METABRIC.csv\")"
   ]
  },
  {
   "cell_type": "code",
   "execution_count": 5,
   "id": "0a32ae82-daf6-4a8c-8e07-4b159ebefe28",
   "metadata": {
    "colab": {
     "base_uri": "https://localhost:8080/",
     "height": 394
    },
    "executionInfo": {
     "elapsed": 261,
     "status": "ok",
     "timestamp": 1743957746663,
     "user": {
      "displayName": "Akhil Koroth",
      "userId": "17131395894339558546"
     },
     "user_tz": -330
    },
    "id": "0a32ae82-daf6-4a8c-8e07-4b159ebefe28",
    "outputId": "f3ead482-9671-47c9-8e84-080ce17e051a"
   },
   "outputs": [
    {
     "data": {
      "text/html": [
       "<div>\n",
       "<style scoped>\n",
       "    .dataframe tbody tr th:only-of-type {\n",
       "        vertical-align: middle;\n",
       "    }\n",
       "\n",
       "    .dataframe tbody tr th {\n",
       "        vertical-align: top;\n",
       "    }\n",
       "\n",
       "    .dataframe thead th {\n",
       "        text-align: right;\n",
       "    }\n",
       "</style>\n",
       "<table border=\"1\" class=\"dataframe\">\n",
       "  <thead>\n",
       "    <tr style=\"text-align: right;\">\n",
       "      <th></th>\n",
       "      <th>Patient ID</th>\n",
       "      <th>Age at Diagnosis</th>\n",
       "      <th>Type of Breast Surgery</th>\n",
       "      <th>Cancer Type</th>\n",
       "      <th>Cancer_type_Detailed</th>\n",
       "      <th>Cellularity</th>\n",
       "      <th>Chemotherapy</th>\n",
       "      <th>Pam50 + Claudin-low subtype</th>\n",
       "      <th>Cohort</th>\n",
       "      <th>ER status measured by IHC</th>\n",
       "      <th>...</th>\n",
       "      <th>Overall Survival Status</th>\n",
       "      <th>PR Status</th>\n",
       "      <th>Radio Therapy</th>\n",
       "      <th>Relapse Free Status (Months)</th>\n",
       "      <th>Relapse Free Status</th>\n",
       "      <th>Sex</th>\n",
       "      <th>3Gene_classifier_subtype</th>\n",
       "      <th>Tumor Size</th>\n",
       "      <th>Tumor Stage</th>\n",
       "      <th>Patient Vital Status</th>\n",
       "    </tr>\n",
       "  </thead>\n",
       "  <tbody>\n",
       "    <tr>\n",
       "      <th>0</th>\n",
       "      <td>MB-0000</td>\n",
       "      <td>75.65</td>\n",
       "      <td>Mastectomy</td>\n",
       "      <td>Breast Cancer</td>\n",
       "      <td>Breast Invasive Ductal Carcinoma</td>\n",
       "      <td>NaN</td>\n",
       "      <td>No</td>\n",
       "      <td>claudin-low</td>\n",
       "      <td>1.0</td>\n",
       "      <td>Positve</td>\n",
       "      <td>...</td>\n",
       "      <td>Living</td>\n",
       "      <td>Negative</td>\n",
       "      <td>Yes</td>\n",
       "      <td>138.65</td>\n",
       "      <td>Not Recurred</td>\n",
       "      <td>Female</td>\n",
       "      <td>ER-/HER2-</td>\n",
       "      <td>22.0</td>\n",
       "      <td>2.0</td>\n",
       "      <td>Living</td>\n",
       "    </tr>\n",
       "    <tr>\n",
       "      <th>1</th>\n",
       "      <td>MB-0002</td>\n",
       "      <td>43.19</td>\n",
       "      <td>Breast Conserving</td>\n",
       "      <td>Breast Cancer</td>\n",
       "      <td>Breast Invasive Ductal Carcinoma</td>\n",
       "      <td>High</td>\n",
       "      <td>No</td>\n",
       "      <td>LumA</td>\n",
       "      <td>1.0</td>\n",
       "      <td>Positve</td>\n",
       "      <td>...</td>\n",
       "      <td>Living</td>\n",
       "      <td>Positive</td>\n",
       "      <td>Yes</td>\n",
       "      <td>83.52</td>\n",
       "      <td>Not Recurred</td>\n",
       "      <td>Female</td>\n",
       "      <td>ER+/HER2- High Prolif</td>\n",
       "      <td>10.0</td>\n",
       "      <td>1.0</td>\n",
       "      <td>Living</td>\n",
       "    </tr>\n",
       "    <tr>\n",
       "      <th>2</th>\n",
       "      <td>MB-0005</td>\n",
       "      <td>48.87</td>\n",
       "      <td>Mastectomy</td>\n",
       "      <td>Breast Cancer</td>\n",
       "      <td>Breast Invasive Ductal Carcinoma</td>\n",
       "      <td>High</td>\n",
       "      <td>Yes</td>\n",
       "      <td>LumB</td>\n",
       "      <td>1.0</td>\n",
       "      <td>Positve</td>\n",
       "      <td>...</td>\n",
       "      <td>Deceased</td>\n",
       "      <td>Positive</td>\n",
       "      <td>No</td>\n",
       "      <td>151.28</td>\n",
       "      <td>Recurred</td>\n",
       "      <td>Female</td>\n",
       "      <td>NaN</td>\n",
       "      <td>15.0</td>\n",
       "      <td>2.0</td>\n",
       "      <td>Died of Disease</td>\n",
       "    </tr>\n",
       "    <tr>\n",
       "      <th>3</th>\n",
       "      <td>MB-0006</td>\n",
       "      <td>47.68</td>\n",
       "      <td>Mastectomy</td>\n",
       "      <td>Breast Cancer</td>\n",
       "      <td>Breast Mixed Ductal and Lobular Carcinoma</td>\n",
       "      <td>Moderate</td>\n",
       "      <td>Yes</td>\n",
       "      <td>LumB</td>\n",
       "      <td>1.0</td>\n",
       "      <td>Positve</td>\n",
       "      <td>...</td>\n",
       "      <td>Living</td>\n",
       "      <td>Positive</td>\n",
       "      <td>Yes</td>\n",
       "      <td>162.76</td>\n",
       "      <td>Not Recurred</td>\n",
       "      <td>Female</td>\n",
       "      <td>NaN</td>\n",
       "      <td>25.0</td>\n",
       "      <td>2.0</td>\n",
       "      <td>Living</td>\n",
       "    </tr>\n",
       "    <tr>\n",
       "      <th>4</th>\n",
       "      <td>MB-0008</td>\n",
       "      <td>76.97</td>\n",
       "      <td>Mastectomy</td>\n",
       "      <td>Breast Cancer</td>\n",
       "      <td>Breast Mixed Ductal and Lobular Carcinoma</td>\n",
       "      <td>High</td>\n",
       "      <td>Yes</td>\n",
       "      <td>LumB</td>\n",
       "      <td>1.0</td>\n",
       "      <td>Positve</td>\n",
       "      <td>...</td>\n",
       "      <td>Deceased</td>\n",
       "      <td>Positive</td>\n",
       "      <td>Yes</td>\n",
       "      <td>18.55</td>\n",
       "      <td>Recurred</td>\n",
       "      <td>Female</td>\n",
       "      <td>ER+/HER2- High Prolif</td>\n",
       "      <td>40.0</td>\n",
       "      <td>2.0</td>\n",
       "      <td>Died of Disease</td>\n",
       "    </tr>\n",
       "  </tbody>\n",
       "</table>\n",
       "<p>5 rows × 34 columns</p>\n",
       "</div>"
      ],
      "text/plain": [
       "  Patient ID  Age at Diagnosis Type of Breast Surgery    Cancer Type  \\\n",
       "0    MB-0000             75.65             Mastectomy  Breast Cancer   \n",
       "1    MB-0002             43.19      Breast Conserving  Breast Cancer   \n",
       "2    MB-0005             48.87             Mastectomy  Breast Cancer   \n",
       "3    MB-0006             47.68             Mastectomy  Breast Cancer   \n",
       "4    MB-0008             76.97             Mastectomy  Breast Cancer   \n",
       "\n",
       "                        Cancer_type_Detailed Cellularity Chemotherapy  \\\n",
       "0           Breast Invasive Ductal Carcinoma         NaN           No   \n",
       "1           Breast Invasive Ductal Carcinoma        High           No   \n",
       "2           Breast Invasive Ductal Carcinoma        High          Yes   \n",
       "3  Breast Mixed Ductal and Lobular Carcinoma    Moderate          Yes   \n",
       "4  Breast Mixed Ductal and Lobular Carcinoma        High          Yes   \n",
       "\n",
       "  Pam50 + Claudin-low subtype  Cohort ER status measured by IHC  ...  \\\n",
       "0                 claudin-low     1.0                   Positve  ...   \n",
       "1                        LumA     1.0                   Positve  ...   \n",
       "2                        LumB     1.0                   Positve  ...   \n",
       "3                        LumB     1.0                   Positve  ...   \n",
       "4                        LumB     1.0                   Positve  ...   \n",
       "\n",
       "  Overall Survival Status  PR Status Radio Therapy  \\\n",
       "0                  Living   Negative           Yes   \n",
       "1                  Living   Positive           Yes   \n",
       "2                Deceased   Positive            No   \n",
       "3                  Living   Positive           Yes   \n",
       "4                Deceased   Positive           Yes   \n",
       "\n",
       "  Relapse Free Status (Months) Relapse Free Status     Sex  \\\n",
       "0                       138.65        Not Recurred  Female   \n",
       "1                        83.52        Not Recurred  Female   \n",
       "2                       151.28            Recurred  Female   \n",
       "3                       162.76        Not Recurred  Female   \n",
       "4                        18.55            Recurred  Female   \n",
       "\n",
       "  3Gene_classifier_subtype Tumor Size Tumor Stage  Patient Vital Status  \n",
       "0                ER-/HER2-       22.0         2.0                Living  \n",
       "1    ER+/HER2- High Prolif       10.0         1.0                Living  \n",
       "2                      NaN       15.0         2.0       Died of Disease  \n",
       "3                      NaN       25.0         2.0                Living  \n",
       "4    ER+/HER2- High Prolif       40.0         2.0       Died of Disease  \n",
       "\n",
       "[5 rows x 34 columns]"
      ]
     },
     "execution_count": 5,
     "metadata": {},
     "output_type": "execute_result"
    }
   ],
   "source": [
    "# it will displays the 5 rows of data\n",
    "data.head()"
   ]
  },
  {
   "cell_type": "code",
   "execution_count": 6,
   "id": "60f359f9-6d62-4e33-9afa-becb2aed19ee",
   "metadata": {
    "executionInfo": {
     "elapsed": 3,
     "status": "ok",
     "timestamp": 1743957746667,
     "user": {
      "displayName": "Akhil Koroth",
      "userId": "17131395894339558546"
     },
     "user_tz": -330
    },
    "id": "60f359f9-6d62-4e33-9afa-becb2aed19ee"
   },
   "outputs": [],
   "source": [
    "# rounding the age column\n",
    "data[\"Age at Diagnosis\"] = data[\"Age at Diagnosis\"].astype(float).round()"
   ]
  },
  {
   "cell_type": "code",
   "execution_count": 7,
   "id": "e0446e44-c6bb-4398-923c-9a8deea0f04f",
   "metadata": {
    "colab": {
     "base_uri": "https://localhost:8080/",
     "height": 394
    },
    "executionInfo": {
     "elapsed": 12,
     "status": "ok",
     "timestamp": 1743957746680,
     "user": {
      "displayName": "Akhil Koroth",
      "userId": "17131395894339558546"
     },
     "user_tz": -330
    },
    "id": "e0446e44-c6bb-4398-923c-9a8deea0f04f",
    "outputId": "96fa00a3-fb06-4889-f0dd-e919e6e6a02f"
   },
   "outputs": [
    {
     "data": {
      "text/html": [
       "<div>\n",
       "<style scoped>\n",
       "    .dataframe tbody tr th:only-of-type {\n",
       "        vertical-align: middle;\n",
       "    }\n",
       "\n",
       "    .dataframe tbody tr th {\n",
       "        vertical-align: top;\n",
       "    }\n",
       "\n",
       "    .dataframe thead th {\n",
       "        text-align: right;\n",
       "    }\n",
       "</style>\n",
       "<table border=\"1\" class=\"dataframe\">\n",
       "  <thead>\n",
       "    <tr style=\"text-align: right;\">\n",
       "      <th></th>\n",
       "      <th>Patient ID</th>\n",
       "      <th>Age at Diagnosis</th>\n",
       "      <th>Type of Breast Surgery</th>\n",
       "      <th>Cancer Type</th>\n",
       "      <th>Cancer_type_Detailed</th>\n",
       "      <th>Cellularity</th>\n",
       "      <th>Chemotherapy</th>\n",
       "      <th>Pam50 + Claudin-low subtype</th>\n",
       "      <th>Cohort</th>\n",
       "      <th>ER status measured by IHC</th>\n",
       "      <th>...</th>\n",
       "      <th>Overall Survival Status</th>\n",
       "      <th>PR Status</th>\n",
       "      <th>Radio Therapy</th>\n",
       "      <th>Relapse Free Status (Months)</th>\n",
       "      <th>Relapse Free Status</th>\n",
       "      <th>Sex</th>\n",
       "      <th>3Gene_classifier_subtype</th>\n",
       "      <th>Tumor Size</th>\n",
       "      <th>Tumor Stage</th>\n",
       "      <th>Patient Vital Status</th>\n",
       "    </tr>\n",
       "  </thead>\n",
       "  <tbody>\n",
       "    <tr>\n",
       "      <th>0</th>\n",
       "      <td>MB-0000</td>\n",
       "      <td>76.0</td>\n",
       "      <td>Mastectomy</td>\n",
       "      <td>Breast Cancer</td>\n",
       "      <td>Breast Invasive Ductal Carcinoma</td>\n",
       "      <td>NaN</td>\n",
       "      <td>No</td>\n",
       "      <td>claudin-low</td>\n",
       "      <td>1.0</td>\n",
       "      <td>Positve</td>\n",
       "      <td>...</td>\n",
       "      <td>Living</td>\n",
       "      <td>Negative</td>\n",
       "      <td>Yes</td>\n",
       "      <td>138.65</td>\n",
       "      <td>Not Recurred</td>\n",
       "      <td>Female</td>\n",
       "      <td>ER-/HER2-</td>\n",
       "      <td>22.0</td>\n",
       "      <td>2.0</td>\n",
       "      <td>Living</td>\n",
       "    </tr>\n",
       "    <tr>\n",
       "      <th>1</th>\n",
       "      <td>MB-0002</td>\n",
       "      <td>43.0</td>\n",
       "      <td>Breast Conserving</td>\n",
       "      <td>Breast Cancer</td>\n",
       "      <td>Breast Invasive Ductal Carcinoma</td>\n",
       "      <td>High</td>\n",
       "      <td>No</td>\n",
       "      <td>LumA</td>\n",
       "      <td>1.0</td>\n",
       "      <td>Positve</td>\n",
       "      <td>...</td>\n",
       "      <td>Living</td>\n",
       "      <td>Positive</td>\n",
       "      <td>Yes</td>\n",
       "      <td>83.52</td>\n",
       "      <td>Not Recurred</td>\n",
       "      <td>Female</td>\n",
       "      <td>ER+/HER2- High Prolif</td>\n",
       "      <td>10.0</td>\n",
       "      <td>1.0</td>\n",
       "      <td>Living</td>\n",
       "    </tr>\n",
       "    <tr>\n",
       "      <th>2</th>\n",
       "      <td>MB-0005</td>\n",
       "      <td>49.0</td>\n",
       "      <td>Mastectomy</td>\n",
       "      <td>Breast Cancer</td>\n",
       "      <td>Breast Invasive Ductal Carcinoma</td>\n",
       "      <td>High</td>\n",
       "      <td>Yes</td>\n",
       "      <td>LumB</td>\n",
       "      <td>1.0</td>\n",
       "      <td>Positve</td>\n",
       "      <td>...</td>\n",
       "      <td>Deceased</td>\n",
       "      <td>Positive</td>\n",
       "      <td>No</td>\n",
       "      <td>151.28</td>\n",
       "      <td>Recurred</td>\n",
       "      <td>Female</td>\n",
       "      <td>NaN</td>\n",
       "      <td>15.0</td>\n",
       "      <td>2.0</td>\n",
       "      <td>Died of Disease</td>\n",
       "    </tr>\n",
       "    <tr>\n",
       "      <th>3</th>\n",
       "      <td>MB-0006</td>\n",
       "      <td>48.0</td>\n",
       "      <td>Mastectomy</td>\n",
       "      <td>Breast Cancer</td>\n",
       "      <td>Breast Mixed Ductal and Lobular Carcinoma</td>\n",
       "      <td>Moderate</td>\n",
       "      <td>Yes</td>\n",
       "      <td>LumB</td>\n",
       "      <td>1.0</td>\n",
       "      <td>Positve</td>\n",
       "      <td>...</td>\n",
       "      <td>Living</td>\n",
       "      <td>Positive</td>\n",
       "      <td>Yes</td>\n",
       "      <td>162.76</td>\n",
       "      <td>Not Recurred</td>\n",
       "      <td>Female</td>\n",
       "      <td>NaN</td>\n",
       "      <td>25.0</td>\n",
       "      <td>2.0</td>\n",
       "      <td>Living</td>\n",
       "    </tr>\n",
       "    <tr>\n",
       "      <th>4</th>\n",
       "      <td>MB-0008</td>\n",
       "      <td>77.0</td>\n",
       "      <td>Mastectomy</td>\n",
       "      <td>Breast Cancer</td>\n",
       "      <td>Breast Mixed Ductal and Lobular Carcinoma</td>\n",
       "      <td>High</td>\n",
       "      <td>Yes</td>\n",
       "      <td>LumB</td>\n",
       "      <td>1.0</td>\n",
       "      <td>Positve</td>\n",
       "      <td>...</td>\n",
       "      <td>Deceased</td>\n",
       "      <td>Positive</td>\n",
       "      <td>Yes</td>\n",
       "      <td>18.55</td>\n",
       "      <td>Recurred</td>\n",
       "      <td>Female</td>\n",
       "      <td>ER+/HER2- High Prolif</td>\n",
       "      <td>40.0</td>\n",
       "      <td>2.0</td>\n",
       "      <td>Died of Disease</td>\n",
       "    </tr>\n",
       "  </tbody>\n",
       "</table>\n",
       "<p>5 rows × 34 columns</p>\n",
       "</div>"
      ],
      "text/plain": [
       "  Patient ID  Age at Diagnosis Type of Breast Surgery    Cancer Type  \\\n",
       "0    MB-0000              76.0             Mastectomy  Breast Cancer   \n",
       "1    MB-0002              43.0      Breast Conserving  Breast Cancer   \n",
       "2    MB-0005              49.0             Mastectomy  Breast Cancer   \n",
       "3    MB-0006              48.0             Mastectomy  Breast Cancer   \n",
       "4    MB-0008              77.0             Mastectomy  Breast Cancer   \n",
       "\n",
       "                        Cancer_type_Detailed Cellularity Chemotherapy  \\\n",
       "0           Breast Invasive Ductal Carcinoma         NaN           No   \n",
       "1           Breast Invasive Ductal Carcinoma        High           No   \n",
       "2           Breast Invasive Ductal Carcinoma        High          Yes   \n",
       "3  Breast Mixed Ductal and Lobular Carcinoma    Moderate          Yes   \n",
       "4  Breast Mixed Ductal and Lobular Carcinoma        High          Yes   \n",
       "\n",
       "  Pam50 + Claudin-low subtype  Cohort ER status measured by IHC  ...  \\\n",
       "0                 claudin-low     1.0                   Positve  ...   \n",
       "1                        LumA     1.0                   Positve  ...   \n",
       "2                        LumB     1.0                   Positve  ...   \n",
       "3                        LumB     1.0                   Positve  ...   \n",
       "4                        LumB     1.0                   Positve  ...   \n",
       "\n",
       "  Overall Survival Status  PR Status Radio Therapy  \\\n",
       "0                  Living   Negative           Yes   \n",
       "1                  Living   Positive           Yes   \n",
       "2                Deceased   Positive            No   \n",
       "3                  Living   Positive           Yes   \n",
       "4                Deceased   Positive           Yes   \n",
       "\n",
       "  Relapse Free Status (Months) Relapse Free Status     Sex  \\\n",
       "0                       138.65        Not Recurred  Female   \n",
       "1                        83.52        Not Recurred  Female   \n",
       "2                       151.28            Recurred  Female   \n",
       "3                       162.76        Not Recurred  Female   \n",
       "4                        18.55            Recurred  Female   \n",
       "\n",
       "  3Gene_classifier_subtype Tumor Size Tumor Stage  Patient Vital Status  \n",
       "0                ER-/HER2-       22.0         2.0                Living  \n",
       "1    ER+/HER2- High Prolif       10.0         1.0                Living  \n",
       "2                      NaN       15.0         2.0       Died of Disease  \n",
       "3                      NaN       25.0         2.0                Living  \n",
       "4    ER+/HER2- High Prolif       40.0         2.0       Died of Disease  \n",
       "\n",
       "[5 rows x 34 columns]"
      ]
     },
     "execution_count": 7,
     "metadata": {},
     "output_type": "execute_result"
    }
   ],
   "source": [
    "# Displaying five rows\n",
    "data.head()"
   ]
  },
  {
   "cell_type": "code",
   "execution_count": 8,
   "id": "e1b39b53-bd9c-4836-8251-046cfce64dbc",
   "metadata": {
    "colab": {
     "base_uri": "https://localhost:8080/"
    },
    "executionInfo": {
     "elapsed": 115,
     "status": "ok",
     "timestamp": 1743957746796,
     "user": {
      "displayName": "Akhil Koroth",
      "userId": "17131395894339558546"
     },
     "user_tz": -330
    },
    "id": "ccf98273-b250-4c73-b48f-038c7b84b493",
    "outputId": "ac37309a-38df-40b9-a012-76c7e4dcd958"
   },
   "outputs": [
    {
     "name": "stdout",
     "output_type": "stream",
     "text": [
      "<class 'pandas.core.frame.DataFrame'>\n",
      "RangeIndex: 2509 entries, 0 to 2508\n",
      "Data columns (total 34 columns):\n",
      " #   Column                          Non-Null Count  Dtype  \n",
      "---  ------                          --------------  -----  \n",
      " 0   Patient ID                      2509 non-null   object \n",
      " 1   Age at Diagnosis                2498 non-null   float64\n",
      " 2   Type of Breast Surgery          1955 non-null   object \n",
      " 3   Cancer Type                     2509 non-null   object \n",
      " 4   Cancer_type_Detailed            2509 non-null   object \n",
      " 5   Cellularity                     1917 non-null   object \n",
      " 6   Chemotherapy                    1980 non-null   object \n",
      " 7   Pam50 + Claudin-low subtype     1980 non-null   object \n",
      " 8   Cohort                          2498 non-null   float64\n",
      " 9   ER status measured by IHC       2426 non-null   object \n",
      " 10  ER Status                       2469 non-null   object \n",
      " 11  Neoplasm Histologic Grade       2388 non-null   float64\n",
      " 12  HER2 status measured by SNP6    1980 non-null   object \n",
      " 13  HER2 Status                     1980 non-null   object \n",
      " 14  Tumor Other Histologic Subtype  2374 non-null   object \n",
      " 15  Hormone Therapy                 1980 non-null   object \n",
      " 16  Inferred Menopausal State       1980 non-null   object \n",
      " 17  Integrative Cluster             1980 non-null   object \n",
      " 18  Primary Tumor Laterality        1870 non-null   object \n",
      " 19  Lymph nodes examined positive   2243 non-null   float64\n",
      " 20  Mutation Count                  2357 non-null   float64\n",
      " 21  Nottingham prognostic index     2287 non-null   float64\n",
      " 22  Oncotree Code                   2509 non-null   object \n",
      " 23  Overall_Survival_Months         1981 non-null   float64\n",
      " 24  Overall Survival Status         1981 non-null   object \n",
      " 25  PR Status                       1980 non-null   object \n",
      " 26  Radio Therapy                   1980 non-null   object \n",
      " 27  Relapse Free Status (Months)    2388 non-null   float64\n",
      " 28  Relapse Free Status             2488 non-null   object \n",
      " 29  Sex                             2509 non-null   object \n",
      " 30  3Gene_classifier_subtype        1764 non-null   object \n",
      " 31  Tumor Size                      2360 non-null   float64\n",
      " 32  Tumor Stage                     1788 non-null   float64\n",
      " 33  Patient Vital Status            1980 non-null   object \n",
      "dtypes: float64(10), object(24)\n",
      "memory usage: 666.6+ KB\n"
     ]
    }
   ],
   "source": [
    "# shows the information about the data\n",
    "data.info()"
   ]
  },
  {
   "cell_type": "markdown",
   "id": "e014697a-eb80-4161-bf17-b328a5d59fcd",
   "metadata": {},
   "source": [
    "## Step 3: Exploratory Data Analysis (EDA) "
   ]
  },
  {
   "cell_type": "code",
   "execution_count": 10,
   "id": "d944aa90-276e-419a-814f-4a8afb216b27",
   "metadata": {},
   "outputs": [
    {
     "name": "stderr",
     "output_type": "stream",
     "text": [
      "C:\\Users\\AKHILK\\AppData\\Local\\Temp\\ipykernel_9528\\1466211610.py:2: FutureWarning: \n",
      "\n",
      "Passing `palette` without assigning `hue` is deprecated and will be removed in v0.14.0. Assign the `x` variable to `hue` and set `legend=False` for the same effect.\n",
      "\n",
      "  sns.countplot(x=data['Type of Breast Surgery'], palette='coolwarm')\n"
     ]
    },
    {
     "data": {
      "text/plain": [
       "Text(0.5, 1.0, 'Distribution of Breast Surgery')"
      ]
     },
     "execution_count": 10,
     "metadata": {},
     "output_type": "execute_result"
    },
    {
     "data": {
      "image/png": "[encoded data removed]",
      "text/plain": [
       "<Figure size 800x500 with 1 Axes>"
      ]
     },
     "metadata": {},
     "output_type": "display_data"
    }
   ],
   "source": [
    "plt.figure(figsize=(8, 5))\n",
    "sns.countplot(x=data['Type of Breast Surgery'], palette='coolwarm')\n",
    "\n",
    "# Add labels and title\n",
    "plt.xlabel(\"Type of Breast Surgery\")\n",
    "plt.ylabel(\"Count\")\n",
    "plt.title(\"Distribution of Breast Surgery\")"
   ]
  },
  {
   "cell_type": "code",
   "execution_count": null,
   "id": "0aa96f34-8f06-48ca-8d82-1b3b8953923b",
   "metadata": {},
   "outputs": [],
   "source": []
  },
  {
   "cell_type": "code",
   "execution_count": 11,
   "id": "4c3dcbf1-f814-4ef1-a33d-afd42643d1d2",
   "metadata": {},
   "outputs": [
    {
     "name": "stderr",
     "output_type": "stream",
     "text": [
      "C:\\Users\\AKHILK\\AppData\\Local\\Temp\\ipykernel_9528\\2826546893.py:2: FutureWarning: \n",
      "\n",
      "Passing `palette` without assigning `hue` is deprecated and will be removed in v0.14.0. Assign the `x` variable to `hue` and set `legend=False` for the same effect.\n",
      "\n",
      "  sns.countplot(x=data['Cancer Type'], palette='coolwarm')\n"
     ]
    },
    {
     "data": {
      "text/plain": [
       "Text(0.5, 1.0, 'Distribution of Breast Cancer Types')"
      ]
     },
     "execution_count": 11,
     "metadata": {},
     "output_type": "execute_result"
    },
    {
     "data": {
      "image/png": "[encoded data removed]",
      "text/plain": [
       "<Figure size 800x500 with 1 Axes>"
      ]
     },
     "metadata": {},
     "output_type": "display_data"
    }
   ],
   "source": [
    "plt.figure(figsize=(8, 5))\n",
    "sns.countplot(x=data['Cancer Type'], palette='coolwarm')\n",
    "\n",
    "# Add labels and title\n",
    "plt.xlabel(\"Type of Breast Cancer\")\n",
    "plt.ylabel(\"Count\")\n",
    "plt.title(\"Distribution of Breast Cancer Types\")"
   ]
  },
  {
   "cell_type": "code",
   "execution_count": null,
   "id": "bf42eaf7-5eef-4768-b39b-ccbe65180f4d",
   "metadata": {},
   "outputs": [],
   "source": []
  },
  {
   "cell_type": "code",
   "execution_count": 12,
   "id": "5ed428aa-2b3b-4217-a7ff-434f0aee5933",
   "metadata": {},
   "outputs": [
    {
     "data": {
      "image/png": "[encoded data removed]",
      "text/plain": [
       "<Figure size 1000x500 with 1 Axes>"
      ]
     },
     "metadata": {},
     "output_type": "display_data"
    }
   ],
   "source": [
    "# visualizing Age at Diagnosis\n",
    "\n",
    "plt.figure(figsize=(10, 5))\n",
    "sns.histplot(data[\"Age at Diagnosis\"], color= \"red\")\n",
    "plt.show()"
   ]
  },
  {
   "cell_type": "code",
   "execution_count": null,
   "id": "9d00dba6-25f3-44a4-86fa-4d40c1952d7e",
   "metadata": {},
   "outputs": [],
   "source": []
  },
  {
   "cell_type": "markdown",
   "id": "f2fcf17b-fea2-42ca-9e24-aba694d8207d",
   "metadata": {},
   "source": [
    "## Step 4: Data Preprocessing"
   ]
  },
  {
   "cell_type": "code",
   "execution_count": 14,
   "id": "1f62f68a-9189-4450-8ae3-3da68c812e2d",
   "metadata": {
    "colab": {
     "base_uri": "https://localhost:8080/"
    },
    "executionInfo": {
     "elapsed": 112,
     "status": "ok",
     "timestamp": 1743957746800,
     "user": {
      "displayName": "Akhil Koroth",
      "userId": "17131395894339558546"
     },
     "user_tz": -330
    },
    "id": "1f62f68a-9189-4450-8ae3-3da68c812e2d",
    "outputId": "56fea6da-52a0-40d1-f80a-68bac3cdc012"
   },
   "outputs": [
    {
     "name": "stdout",
     "output_type": "stream",
     "text": [
      "Patient ID                          0\n",
      "Age at Diagnosis                   11\n",
      "Type of Breast Surgery            554\n",
      "Cancer Type                         0\n",
      "Cancer_type_Detailed                0\n",
      "Cellularity                       592\n",
      "Chemotherapy                      529\n",
      "Pam50 + Claudin-low subtype       529\n",
      "Cohort                             11\n",
      "ER status measured by IHC          83\n",
      "ER Status                          40\n",
      "Neoplasm Histologic Grade         121\n",
      "HER2 status measured by SNP6      529\n",
      "HER2 Status                       529\n",
      "Tumor Other Histologic Subtype    135\n",
      "Hormone Therapy                   529\n",
      "Inferred Menopausal State         529\n",
      "Integrative Cluster               529\n",
      "Primary Tumor Laterality          639\n",
      "Lymph nodes examined positive     266\n",
      "Mutation Count                    152\n",
      "Nottingham prognostic index       222\n",
      "Oncotree Code                       0\n",
      "Overall_Survival_Months           528\n",
      "Overall Survival Status           528\n",
      "PR Status                         529\n",
      "Radio Therapy                     529\n",
      "Relapse Free Status (Months)      121\n",
      "Relapse Free Status                21\n",
      "Sex                                 0\n",
      "3Gene_classifier_subtype          745\n",
      "Tumor Size                        149\n",
      "Tumor Stage                       721\n",
      "Patient Vital Status              529\n",
      "dtype: int64\n"
     ]
    }
   ],
   "source": [
    "# Check for missing values\n",
    "\n",
    "print(data.isnull().sum())"
   ]
  },
  {
   "cell_type": "code",
   "execution_count": null,
   "id": "a02ada08-cf0f-42b5-afbf-2d7437f23c5e",
   "metadata": {
    "executionInfo": {
     "elapsed": 3,
     "status": "ok",
     "timestamp": 1743957746803,
     "user": {
      "displayName": "Akhil Koroth",
      "userId": "17131395894339558546"
     },
     "user_tz": -330
    },
    "id": "a02ada08-cf0f-42b5-afbf-2d7437f23c5e"
   },
   "outputs": [],
   "source": []
  },
  {
   "cell_type": "code",
   "execution_count": 15,
   "id": "ebb6720d-1e0a-41db-b3d2-46560116642c",
   "metadata": {
    "executionInfo": {
     "elapsed": 44,
     "status": "ok",
     "timestamp": 1743957746847,
     "user": {
      "displayName": "Akhil Koroth",
      "userId": "17131395894339558546"
     },
     "user_tz": -330
    },
    "id": "ebb6720d-1e0a-41db-b3d2-46560116642c"
   },
   "outputs": [],
   "source": [
    "# Filling missing values\n",
    "for col in data.columns:\n",
    "    if data[col].dtype == \"object\":\n",
    "        data[col] = data[col].fillna(data[col].mode()[0])  # Fill categorical columns with mode\n",
    "    else:\n",
    "        data[col] = data[col].fillna(data[col].median())  # Fill numerical columns (including floats) with median\n"
   ]
  },
  {
   "cell_type": "code",
   "execution_count": 16,
   "id": "f97eee6d-bcb1-474e-ab9d-f4dea3b56e07",
   "metadata": {
    "colab": {
     "base_uri": "https://localhost:8080/"
    },
    "executionInfo": {
     "elapsed": 4,
     "status": "ok",
     "timestamp": 1743957746848,
     "user": {
      "displayName": "Akhil Koroth",
      "userId": "17131395894339558546"
     },
     "user_tz": -330
    },
    "id": "f97eee6d-bcb1-474e-ab9d-f4dea3b56e07",
    "outputId": "65aef758-ed9c-42d8-815d-0e07eeab0cd1"
   },
   "outputs": [
    {
     "name": "stdout",
     "output_type": "stream",
     "text": [
      "Patient ID                        0\n",
      "Age at Diagnosis                  0\n",
      "Type of Breast Surgery            0\n",
      "Cancer Type                       0\n",
      "Cancer_type_Detailed              0\n",
      "Cellularity                       0\n",
      "Chemotherapy                      0\n",
      "Pam50 + Claudin-low subtype       0\n",
      "Cohort                            0\n",
      "ER status measured by IHC         0\n",
      "ER Status                         0\n",
      "Neoplasm Histologic Grade         0\n",
      "HER2 status measured by SNP6      0\n",
      "HER2 Status                       0\n",
      "Tumor Other Histologic Subtype    0\n",
      "Hormone Therapy                   0\n",
      "Inferred Menopausal State         0\n",
      "Integrative Cluster               0\n",
      "Primary Tumor Laterality          0\n",
      "Lymph nodes examined positive     0\n",
      "Mutation Count                    0\n",
      "Nottingham prognostic index       0\n",
      "Oncotree Code                     0\n",
      "Overall_Survival_Months           0\n",
      "Overall Survival Status           0\n",
      "PR Status                         0\n",
      "Radio Therapy                     0\n",
      "Relapse Free Status (Months)      0\n",
      "Relapse Free Status               0\n",
      "Sex                               0\n",
      "3Gene_classifier_subtype          0\n",
      "Tumor Size                        0\n",
      "Tumor Stage                       0\n",
      "Patient Vital Status              0\n",
      "dtype: int64\n"
     ]
    }
   ],
   "source": [
    "# Check for missing values\n",
    "\n",
    "print(data.isnull().sum())"
   ]
  },
  {
   "cell_type": "code",
   "execution_count": 17,
   "id": "af30c038-94af-45ef-bdee-2c9ffbf741ed",
   "metadata": {
    "colab": {
     "base_uri": "https://localhost:8080/",
     "height": 372
    },
    "executionInfo": {
     "elapsed": 225,
     "status": "ok",
     "timestamp": 1743957747336,
     "user": {
      "displayName": "Akhil Koroth",
      "userId": "17131395894339558546"
     },
     "user_tz": -330
    },
    "id": "af30c038-94af-45ef-bdee-2c9ffbf741ed",
    "outputId": "f2eb2de7-35af-4f12-fc21-f9d3d06674bd"
   },
   "outputs": [
    {
     "data": {
      "text/html": [
       "<div>\n",
       "<style scoped>\n",
       "    .dataframe tbody tr th:only-of-type {\n",
       "        vertical-align: middle;\n",
       "    }\n",
       "\n",
       "    .dataframe tbody tr th {\n",
       "        vertical-align: top;\n",
       "    }\n",
       "\n",
       "    .dataframe thead th {\n",
       "        text-align: right;\n",
       "    }\n",
       "</style>\n",
       "<table border=\"1\" class=\"dataframe\">\n",
       "  <thead>\n",
       "    <tr style=\"text-align: right;\">\n",
       "      <th></th>\n",
       "      <th>Age at Diagnosis</th>\n",
       "      <th>Cohort</th>\n",
       "      <th>Neoplasm Histologic Grade</th>\n",
       "      <th>Lymph nodes examined positive</th>\n",
       "      <th>Mutation Count</th>\n",
       "      <th>Nottingham prognostic index</th>\n",
       "      <th>Overall_Survival_Months</th>\n",
       "      <th>Relapse Free Status (Months)</th>\n",
       "      <th>Tumor Size</th>\n",
       "      <th>Tumor Stage</th>\n",
       "    </tr>\n",
       "  </thead>\n",
       "  <tbody>\n",
       "    <tr>\n",
       "      <th>count</th>\n",
       "      <td>2509.000000</td>\n",
       "      <td>2509.000000</td>\n",
       "      <td>2509.000000</td>\n",
       "      <td>2509.000000</td>\n",
       "      <td>2509.000000</td>\n",
       "      <td>2509.000000</td>\n",
       "      <td>2509.000000</td>\n",
       "      <td>2509.000000</td>\n",
       "      <td>2509.000000</td>\n",
       "      <td>2509.000000</td>\n",
       "    </tr>\n",
       "    <tr>\n",
       "      <th>mean</th>\n",
       "      <td>60.419291</td>\n",
       "      <td>2.900757</td>\n",
       "      <td>2.440415</td>\n",
       "      <td>1.743723</td>\n",
       "      <td>5.543643</td>\n",
       "      <td>4.030133</td>\n",
       "      <td>123.397090</td>\n",
       "      <td>108.372401</td>\n",
       "      <td>25.993826</td>\n",
       "      <td>1.795935</td>\n",
       "    </tr>\n",
       "    <tr>\n",
       "      <th>std</th>\n",
       "      <td>13.000903</td>\n",
       "      <td>1.957919</td>\n",
       "      <td>0.645912</td>\n",
       "      <td>3.845927</td>\n",
       "      <td>3.848324</td>\n",
       "      <td>1.135254</td>\n",
       "      <td>67.721705</td>\n",
       "      <td>74.680028</td>\n",
       "      <td>14.934485</td>\n",
       "      <td>0.568132</td>\n",
       "    </tr>\n",
       "    <tr>\n",
       "      <th>min</th>\n",
       "      <td>22.000000</td>\n",
       "      <td>1.000000</td>\n",
       "      <td>1.000000</td>\n",
       "      <td>0.000000</td>\n",
       "      <td>1.000000</td>\n",
       "      <td>1.000000</td>\n",
       "      <td>0.000000</td>\n",
       "      <td>0.000000</td>\n",
       "      <td>1.000000</td>\n",
       "      <td>0.000000</td>\n",
       "    </tr>\n",
       "    <tr>\n",
       "      <th>25%</th>\n",
       "      <td>51.000000</td>\n",
       "      <td>1.000000</td>\n",
       "      <td>2.000000</td>\n",
       "      <td>0.000000</td>\n",
       "      <td>3.000000</td>\n",
       "      <td>3.052000</td>\n",
       "      <td>76.233333</td>\n",
       "      <td>42.600000</td>\n",
       "      <td>18.000000</td>\n",
       "      <td>1.000000</td>\n",
       "    </tr>\n",
       "    <tr>\n",
       "      <th>50%</th>\n",
       "      <td>61.000000</td>\n",
       "      <td>3.000000</td>\n",
       "      <td>3.000000</td>\n",
       "      <td>0.000000</td>\n",
       "      <td>5.000000</td>\n",
       "      <td>4.044000</td>\n",
       "      <td>116.466667</td>\n",
       "      <td>99.095000</td>\n",
       "      <td>22.410000</td>\n",
       "      <td>2.000000</td>\n",
       "    </tr>\n",
       "    <tr>\n",
       "      <th>75%</th>\n",
       "      <td>70.000000</td>\n",
       "      <td>4.000000</td>\n",
       "      <td>3.000000</td>\n",
       "      <td>2.000000</td>\n",
       "      <td>7.000000</td>\n",
       "      <td>5.036000</td>\n",
       "      <td>164.333333</td>\n",
       "      <td>163.190000</td>\n",
       "      <td>30.000000</td>\n",
       "      <td>2.000000</td>\n",
       "    </tr>\n",
       "    <tr>\n",
       "      <th>max</th>\n",
       "      <td>96.000000</td>\n",
       "      <td>9.000000</td>\n",
       "      <td>3.000000</td>\n",
       "      <td>45.000000</td>\n",
       "      <td>80.000000</td>\n",
       "      <td>7.200000</td>\n",
       "      <td>355.200000</td>\n",
       "      <td>384.210000</td>\n",
       "      <td>182.000000</td>\n",
       "      <td>4.000000</td>\n",
       "    </tr>\n",
       "  </tbody>\n",
       "</table>\n",
       "</div>"
      ],
      "text/plain": [
       "       Age at Diagnosis       Cohort  Neoplasm Histologic Grade  \\\n",
       "count       2509.000000  2509.000000                2509.000000   \n",
       "mean          60.419291     2.900757                   2.440415   \n",
       "std           13.000903     1.957919                   0.645912   \n",
       "min           22.000000     1.000000                   1.000000   \n",
       "25%           51.000000     1.000000                   2.000000   \n",
       "50%           61.000000     3.000000                   3.000000   \n",
       "75%           70.000000     4.000000                   3.000000   \n",
       "max           96.000000     9.000000                   3.000000   \n",
       "\n",
       "       Lymph nodes examined positive  Mutation Count  \\\n",
       "count                    2509.000000     2509.000000   \n",
       "mean                        1.743723        5.543643   \n",
       "std                         3.845927        3.848324   \n",
       "min                         0.000000        1.000000   \n",
       "25%                         0.000000        3.000000   \n",
       "50%                         0.000000        5.000000   \n",
       "75%                         2.000000        7.000000   \n",
       "max                        45.000000       80.000000   \n",
       "\n",
       "       Nottingham prognostic index  Overall_Survival_Months  \\\n",
       "count                  2509.000000              2509.000000   \n",
       "mean                      4.030133               123.397090   \n",
       "std                       1.135254                67.721705   \n",
       "min                       1.000000                 0.000000   \n",
       "25%                       3.052000                76.233333   \n",
       "50%                       4.044000               116.466667   \n",
       "75%                       5.036000               164.333333   \n",
       "max                       7.200000               355.200000   \n",
       "\n",
       "       Relapse Free Status (Months)   Tumor Size  Tumor Stage  \n",
       "count                   2509.000000  2509.000000  2509.000000  \n",
       "mean                     108.372401    25.993826     1.795935  \n",
       "std                       74.680028    14.934485     0.568132  \n",
       "min                        0.000000     1.000000     0.000000  \n",
       "25%                       42.600000    18.000000     1.000000  \n",
       "50%                       99.095000    22.410000     2.000000  \n",
       "75%                      163.190000    30.000000     2.000000  \n",
       "max                      384.210000   182.000000     4.000000  "
      ]
     },
     "execution_count": 17,
     "metadata": {},
     "output_type": "execute_result"
    }
   ],
   "source": [
    "#summarizes the statistical properties\n",
    "\n",
    "data.describe()"
   ]
  },
  {
   "cell_type": "code",
   "execution_count": 18,
   "id": "ce33bf6b-9782-4eca-b63d-573ae0b1b9f8",
   "metadata": {
    "colab": {
     "base_uri": "https://localhost:8080/"
    },
    "executionInfo": {
     "elapsed": 7,
     "status": "ok",
     "timestamp": 1743957747344,
     "user": {
      "displayName": "Akhil Koroth",
      "userId": "17131395894339558546"
     },
     "user_tz": -330
    },
    "id": "ce33bf6b-9782-4eca-b63d-573ae0b1b9f8",
    "outputId": "9150c03b-c4da-40d2-e7f6-cc1ea8266acd"
   },
   "outputs": [
    {
     "name": "stdout",
     "output_type": "stream",
     "text": [
      "0\n"
     ]
    }
   ],
   "source": [
    "# Check for duplicate rows\n",
    "print(data.duplicated().sum())"
   ]
  },
  {
   "cell_type": "code",
   "execution_count": null,
   "id": "f4187f09-400b-4fff-98dd-dccd13832441",
   "metadata": {},
   "outputs": [],
   "source": []
  },
  {
   "cell_type": "code",
   "execution_count": 19,
   "id": "3f7e88c7-bada-40b5-be0b-8559f2b3af29",
   "metadata": {
    "executionInfo": {
     "elapsed": 12,
     "status": "ok",
     "timestamp": 1743957749693,
     "user": {
      "displayName": "Akhil Koroth",
      "userId": "17131395894339558546"
     },
     "user_tz": -330
    },
    "id": "3f7e88c7-bada-40b5-be0b-8559f2b3af29"
   },
   "outputs": [],
   "source": [
    "# splitting numerical and categorical columns\n",
    "num_cols = data.select_dtypes(include=['number']).columns\n",
    "cat_cols = data.select_dtypes(include=['object']).columns"
   ]
  },
  {
   "cell_type": "code",
   "execution_count": 20,
   "id": "93f53d1c-3b1d-4b17-9b6a-450bed405a80",
   "metadata": {
    "colab": {
     "base_uri": "https://localhost:8080/"
    },
    "executionInfo": {
     "elapsed": 11,
     "status": "ok",
     "timestamp": 1743957749694,
     "user": {
      "displayName": "Akhil Koroth",
      "userId": "17131395894339558546"
     },
     "user_tz": -330
    },
    "id": "93f53d1c-3b1d-4b17-9b6a-450bed405a80",
    "outputId": "f5d74933-6a1b-4966-cd13-5937350159d4"
   },
   "outputs": [
    {
     "name": "stdout",
     "output_type": "stream",
     "text": [
      "Index(['Age at Diagnosis', 'Cohort', 'Neoplasm Histologic Grade',\n",
      "       'Lymph nodes examined positive', 'Mutation Count',\n",
      "       'Nottingham prognostic index', 'Overall_Survival_Months',\n",
      "       'Relapse Free Status (Months)', 'Tumor Size', 'Tumor Stage'],\n",
      "      dtype='object')\n",
      "Index(['Patient ID', 'Type of Breast Surgery', 'Cancer Type',\n",
      "       'Cancer_type_Detailed', 'Cellularity', 'Chemotherapy',\n",
      "       'Pam50 + Claudin-low subtype', 'ER status measured by IHC', 'ER Status',\n",
      "       'HER2 status measured by SNP6', 'HER2 Status',\n",
      "       'Tumor Other Histologic Subtype', 'Hormone Therapy',\n",
      "       'Inferred Menopausal State', 'Integrative Cluster',\n",
      "       'Primary Tumor Laterality', 'Oncotree Code', 'Overall Survival Status',\n",
      "       'PR Status', 'Radio Therapy', 'Relapse Free Status', 'Sex',\n",
      "       '3Gene_classifier_subtype', 'Patient Vital Status'],\n",
      "      dtype='object')\n"
     ]
    }
   ],
   "source": [
    "print(num_cols)\n",
    "print(cat_cols)"
   ]
  },
  {
   "cell_type": "code",
   "execution_count": 21,
   "id": "1df0e3a7-7b1f-4938-8992-9c04f3fb4274",
   "metadata": {
    "colab": {
     "base_uri": "https://localhost:8080/",
     "height": 1000
    },
    "executionInfo": {
     "elapsed": 2564,
     "status": "ok",
     "timestamp": 1743957752259,
     "user": {
      "displayName": "Akhil Koroth",
      "userId": "17131395894339558546"
     },
     "user_tz": -330
    },
    "id": "1df0e3a7-7b1f-4938-8992-9c04f3fb4274",
    "outputId": "d2f4d53d-ff59-4adf-bdef-5d4ff9977e28"
   },
   "outputs": [
    {
     "data": {
      "image/png": "[encoded data removed]",
      "text/plain": [
       "<Figure size 640x480 with 1 Axes>"
      ]
     },
     "metadata": {},
     "output_type": "display_data"
    },
    {
     "data": {
      "image/png": "[encoded data removed]",
      "text/plain": [
       "<Figure size 640x480 with 1 Axes>"
      ]
     },
     "metadata": {},
     "output_type": "display_data"
    },
    {
     "data": {
      "image/png": "[encoded data removed]",
      "text/plain": [
       "<Figure size 640x480 with 1 Axes>"
      ]
     },
     "metadata": {},
     "output_type": "display_data"
    },
    {
     "data": {
      "image/png": "[encoded data removed]",
      "text/plain": [
       "<Figure size 640x480 with 1 Axes>"
      ]
     },
     "metadata": {},
     "output_type": "display_data"
    },
    {
     "data": {
      "image/png": "[encoded data removed]",
      "text/plain": [
       "<Figure size 640x480 with 1 Axes>"
      ]
     },
     "metadata": {},
     "output_type": "display_data"
    },
    {
     "data": {
      "image/png": "[encoded data removed]",
      "text/plain": [
       "<Figure size 640x480 with 1 Axes>"
      ]
     },
     "metadata": {},
     "output_type": "display_data"
    },
    {
     "data": {
      "image/png": "[encoded data removed]",
      "text/plain": [
       "<Figure size 640x480 with 1 Axes>"
      ]
     },
     "metadata": {},
     "output_type": "display_data"
    },
    {
     "data": {
      "image/png": "[encoded data removed]",
      "text/plain": [
       "<Figure size 640x480 with 1 Axes>"
      ]
     },
     "metadata": {},
     "output_type": "display_data"
    },
    {
     "data": {
      "image/png": "[encoded data removed]",
      "text/plain": [
       "<Figure size 640x480 with 1 Axes>"
      ]
     },
     "metadata": {},
     "output_type": "display_data"
    },
    {
     "data": {
      "image/png": "[encoded data removed]",
      "text/plain": [
       "<Figure size 640x480 with 1 Axes>"
      ]
     },
     "metadata": {},
     "output_type": "display_data"
    }
   ],
   "source": [
    "# finding outliers\n",
    "\n",
    "for col in num_cols:\n",
    "    sns.boxplot(data=data,x=col)\n",
    "    plt.title(\"Box Plot \" + col)\n",
    "    plt.show()"
   ]
  },
  {
   "cell_type": "code",
   "execution_count": 22,
   "id": "51436b63-5300-4cea-8c69-ad4dc6a18fdf",
   "metadata": {
    "executionInfo": {
     "elapsed": 1,
     "status": "ok",
     "timestamp": 1743957752262,
     "user": {
      "displayName": "Akhil Koroth",
      "userId": "17131395894339558546"
     },
     "user_tz": -330
    },
    "id": "51436b63-5300-4cea-8c69-ad4dc6a18fdf"
   },
   "outputs": [],
   "source": [
    "for col in num_cols:\n",
    "    Q1=data[col].quantile(0.25)\n",
    "    Q3=data[col].quantile(0.75)\n",
    "    IQR=Q3-Q1\n",
    "    lower_bound=Q1-1.5*IQR\n",
    "    upper_bound=Q3+1.5*IQR\n",
    "    data.loc[:,col]= np.clip(data[col],lower_bound,upper_bound)"
   ]
  },
  {
   "cell_type": "code",
   "execution_count": null,
   "id": "88e3b331-6cbd-4a0a-b9df-be90bca2e705",
   "metadata": {
    "executionInfo": {
     "elapsed": 1,
     "status": "ok",
     "timestamp": 1743957752264,
     "user": {
      "displayName": "Akhil Koroth",
      "userId": "17131395894339558546"
     },
     "user_tz": -330
    },
    "id": "88e3b331-6cbd-4a0a-b9df-be90bca2e705"
   },
   "outputs": [],
   "source": []
  },
  {
   "cell_type": "code",
   "execution_count": 23,
   "id": "34a03cab-929f-4f31-9c2f-dbce5bb7bda4",
   "metadata": {
    "executionInfo": {
     "elapsed": 1,
     "status": "ok",
     "timestamp": 1743957752266,
     "user": {
      "displayName": "Akhil Koroth",
      "userId": "17131395894339558546"
     },
     "user_tz": -330
    },
    "id": "34a03cab-929f-4f31-9c2f-dbce5bb7bda4"
   },
   "outputs": [],
   "source": [
    " # CONVERTING categorical columns to integers\n",
    "\n",
    "label_encoder = LabelEncoder()\n",
    "for col in cat_cols:\n",
    "    data[col] = label_encoder.fit_transform(data[col])"
   ]
  },
  {
   "cell_type": "code",
   "execution_count": 24,
   "id": "2as1F46xBBFY",
   "metadata": {
    "executionInfo": {
     "elapsed": 152,
     "status": "ok",
     "timestamp": 1743958333256,
     "user": {
      "displayName": "Akhil Koroth",
      "userId": "17131395894339558546"
     },
     "user_tz": -330
    },
    "id": "2as1F46xBBFY"
   },
   "outputs": [],
   "source": [
    "##create a code of x and y split\n",
    "\n",
    "# Define features (X) and target (y)\n",
    "X = data.drop(\"Overall Survival Status\", axis=1)\n",
    "y = data[\"Overall Survival Status\"]\n",
    "\n",
    "# Split the data into training and testing sets\n",
    "X_train, X_test, y_train, y_test = train_test_split(X, y, test_size=0.2, random_state=42)\n"
   ]
  },
  {
   "cell_type": "code",
   "execution_count": 25,
   "id": "6174a16a-430f-49e7-a762-5e3e62bd43c5",
   "metadata": {},
   "outputs": [
    {
     "data": {
      "text/plain": [
       "Index(['Patient ID', 'Age at Diagnosis', 'Type of Breast Surgery',\n",
       "       'Cancer Type', 'Cancer_type_Detailed', 'Cellularity', 'Chemotherapy',\n",
       "       'Pam50 + Claudin-low subtype', 'Cohort', 'ER status measured by IHC',\n",
       "       'ER Status', 'Neoplasm Histologic Grade',\n",
       "       'HER2 status measured by SNP6', 'HER2 Status',\n",
       "       'Tumor Other Histologic Subtype', 'Hormone Therapy',\n",
       "       'Inferred Menopausal State', 'Integrative Cluster',\n",
       "       'Primary Tumor Laterality', 'Lymph nodes examined positive',\n",
       "       'Mutation Count', 'Nottingham prognostic index', 'Oncotree Code',\n",
       "       'Overall_Survival_Months', 'PR Status', 'Radio Therapy',\n",
       "       'Relapse Free Status (Months)', 'Relapse Free Status', 'Sex',\n",
       "       '3Gene_classifier_subtype', 'Tumor Size', 'Tumor Stage',\n",
       "       'Patient Vital Status'],\n",
       "      dtype='object')"
      ]
     },
     "execution_count": 25,
     "metadata": {},
     "output_type": "execute_result"
    }
   ],
   "source": [
    "X.columns"
   ]
  },
  {
   "cell_type": "code",
   "execution_count": 70,
   "id": "ovtmRJlOBGel",
   "metadata": {
    "executionInfo": {
     "elapsed": 8,
     "status": "ok",
     "timestamp": 1743958348695,
     "user": {
      "displayName": "Akhil Koroth",
      "userId": "17131395894339558546"
     },
     "user_tz": -330
    },
    "id": "ovtmRJlOBGel"
   },
   "outputs": [],
   "source": [
    "# Standardize features\n",
    "scaler = StandardScaler()\n",
    "X_scaled = scaler.fit_transform(X)"
   ]
  },
  {
   "cell_type": "code",
   "execution_count": 72,
   "id": "htPfMzLCBJxE",
   "metadata": {
    "executionInfo": {
     "elapsed": 870,
     "status": "ok",
     "timestamp": 1743958458134,
     "user": {
      "displayName": "Akhil Koroth",
      "userId": "17131395894339558546"
     },
     "user_tz": -330
    },
    "id": "htPfMzLCBJxE"
   },
   "outputs": [],
   "source": [
    "# Apply SVD for feature selection\n",
    "from sklearn.decomposition import TruncatedSVD\n",
    "svd = TruncatedSVD(n_components=10)  # You can change number of components\n",
    "X_reduced = svd.fit_transform(X_scaled)\n"
   ]
  },
  {
   "cell_type": "code",
   "execution_count": 74,
   "id": "PqRTS0GqBmsr",
   "metadata": {
    "executionInfo": {
     "elapsed": 2,
     "status": "ok",
     "timestamp": 1743958501502,
     "user": {
      "displayName": "Akhil Koroth",
      "userId": "17131395894339558546"
     },
     "user_tz": -330
    },
    "id": "PqRTS0GqBmsr"
   },
   "outputs": [],
   "source": [
    "# Train-test split\n",
    "X_train, X_test, y_train, y_test = train_test_split(X_reduced, y, test_size=0.2, random_state=42)\n"
   ]
  },
  {
   "cell_type": "code",
   "execution_count": 76,
   "id": "w5uh3t0WB5eF",
   "metadata": {
    "executionInfo": {
     "elapsed": 53849,
     "status": "ok",
     "timestamp": 1743958690023,
     "user": {
      "displayName": "Akhil Koroth",
      "userId": "17131395894339558546"
     },
     "user_tz": -330
    },
    "id": "w5uh3t0WB5eF"
   },
   "outputs": [],
   "source": [
    "from sklearn.model_selection import GridSearchCV\n",
    "# Logistic Regression\n",
    "lr = LogisticRegression(max_iter=1000)\n",
    "lr.fit(X_train, y_train)\n",
    "y_pred_lr = lr.predict(X_test)\n",
    "\n",
    "# Decision Tree\n",
    "dt = DecisionTreeClassifier()\n",
    "dt.fit(X_train, y_train)\n",
    "y_pred_dt = dt.predict(X_test)\n",
    "\n",
    "# Support Vector Machine\n",
    "svm = SVC()\n",
    "svm.fit(X_train, y_train)\n",
    "y_pred_svm = svm.predict(X_test)\n",
    "\n",
    "# Random Forest with Hyperparameter Tuning\n",
    "param_grid = {\n",
    "    'n_estimators': [100, 200],\n",
    "    'max_depth': [None, 10, 20],\n",
    "    'min_samples_split': [2, 5],\n",
    "}\n",
    "rf = GridSearchCV(RandomForestClassifier(random_state=42), param_grid, cv=5, n_jobs=-1)\n",
    "rf.fit(X_train, y_train)\n",
    "y_pred_rf = rf.predict(X_test)\n"
   ]
  },
  {
   "cell_type": "code",
   "execution_count": 77,
   "id": "QRtqPj1VCrWq",
   "metadata": {
    "colab": {
     "base_uri": "https://localhost:8080/"
    },
    "executionInfo": {
     "elapsed": 12,
     "status": "ok",
     "timestamp": 1743958764888,
     "user": {
      "displayName": "Akhil Koroth",
      "userId": "17131395894339558546"
     },
     "user_tz": -330
    },
    "id": "QRtqPj1VCrWq",
    "outputId": "6e86bbd2-c57d-4bea-94c7-23304a095d52"
   },
   "outputs": [
    {
     "name": "stdout",
     "output_type": "stream",
     "text": [
      "--- Logistic Regression ---\n",
      "Accuracy: 0.8366533864541833\n",
      "              precision    recall  f1-score   support\n",
      "\n",
      "           0       0.88      0.89      0.88       342\n",
      "           1       0.75      0.73      0.74       160\n",
      "\n",
      "    accuracy                           0.84       502\n",
      "   macro avg       0.81      0.81      0.81       502\n",
      "weighted avg       0.84      0.84      0.84       502\n",
      "\n",
      "\n",
      "--- Decision Tree ---\n",
      "Accuracy: 0.7888446215139442\n",
      "              precision    recall  f1-score   support\n",
      "\n",
      "           0       0.86      0.82      0.84       342\n",
      "           1       0.66      0.71      0.68       160\n",
      "\n",
      "    accuracy                           0.79       502\n",
      "   macro avg       0.76      0.77      0.76       502\n",
      "weighted avg       0.79      0.79      0.79       502\n",
      "\n",
      "\n",
      "--- SVM ---\n",
      "Accuracy: 0.8685258964143426\n",
      "              precision    recall  f1-score   support\n",
      "\n",
      "           0       0.91      0.90      0.90       342\n",
      "           1       0.79      0.81      0.80       160\n",
      "\n",
      "    accuracy                           0.87       502\n",
      "   macro avg       0.85      0.85      0.85       502\n",
      "weighted avg       0.87      0.87      0.87       502\n",
      "\n",
      "\n",
      "--- Random Forest (Tuned) ---\n",
      "Accuracy: 0.8665338645418327\n",
      "              precision    recall  f1-score   support\n",
      "\n",
      "           0       0.90      0.91      0.90       342\n",
      "           1       0.80      0.78      0.79       160\n",
      "\n",
      "    accuracy                           0.87       502\n",
      "   macro avg       0.85      0.84      0.85       502\n",
      "weighted avg       0.87      0.87      0.87       502\n",
      "\n",
      "\n"
     ]
    }
   ],
   "source": [
    "models = {\n",
    "    'Logistic Regression': y_pred_lr,\n",
    "    'Decision Tree': y_pred_dt,\n",
    "    'SVM': y_pred_svm,\n",
    "    'Random Forest (Tuned)': y_pred_rf\n",
    "}\n",
    "\n",
    "for name, pred in models.items():\n",
    "    print(f\"--- {name} ---\")\n",
    "    print(\"Accuracy:\", accuracy_score(y_test, pred))\n",
    "    print(classification_report(y_test, pred))\n",
    "    print()"
   ]
  },
  {
   "cell_type": "code",
   "execution_count": null,
   "id": "657787e0-5be1-41b5-b6a5-b2c2a564c8d0",
   "metadata": {},
   "outputs": [],
   "source": []
  },
  {
   "cell_type": "code",
   "execution_count": null,
   "id": "2c51120b-f224-4f52-9d90-23e2d4bb0427",
   "metadata": {},
   "outputs": [],
   "source": []
  },
  {
   "cell_type": "code",
   "execution_count": 31,
   "id": "eee825af-3b94-402a-89a1-ff0cef48eca6",
   "metadata": {},
   "outputs": [
    {
     "name": "stdout",
     "output_type": "stream",
     "text": [
      "Top 5 Most Important Features (Random Forest):\n",
      "\n",
      "Age at Diagnosis: 0.3155\n",
      "Cancer_type_Detailed: 0.1337\n",
      "Cancer Type: 0.0913\n",
      "Type of Breast Surgery: 0.0888\n",
      "Cohort: 0.0777\n",
      "Cellularity: 0.0761\n",
      "Patient ID: 0.0648\n",
      "Chemotherapy: 0.0515\n",
      "Pam50 + Claudin-low subtype: 0.0505\n",
      "ER status measured by IHC: 0.0501\n"
     ]
    }
   ],
   "source": [
    "best_rf = rf.best_estimator_\n",
    "importances = best_rf.feature_importances_\n",
    "feature_names = X.columns\n",
    "\n",
    "# Get top 5 features\n",
    "top_indices = np.argsort(importances)[::-1][:10]\n",
    "\n",
    "print(\"Top 5 Most Important Features (Random Forest):\\n\")\n",
    "for i in top_indices:\n",
    "    print(f\"{feature_names[i]}: {importances[i]:.4f}\")"
   ]
  },
  {
   "cell_type": "code",
   "execution_count": null,
   "id": "b61247bb-15ad-4bd3-8812-fc39395ee919",
   "metadata": {},
   "outputs": [],
   "source": []
  },
  {
   "cell_type": "code",
   "execution_count": null,
   "id": "ce623227-76b0-45b0-8e7a-e2d4c11d16e4",
   "metadata": {},
   "outputs": [],
   "source": []
  },
  {
   "cell_type": "code",
   "execution_count": null,
   "id": "4d7b8dd9-c75d-4964-8dd3-0b1e1b80f9e6",
   "metadata": {},
   "outputs": [],
   "source": []
  }
 ],
 "metadata": {
  "colab": {
   "provenance": []
  },
  "kernelspec": {
   "display_name": "Python 3 (ipykernel)",
   "language": "python",
   "name": "python3"
  },
  "language_info": {
   "codemirror_mode": {
    "name": "ipython",
    "version": 3
   },
   "file_extension": ".py",
   "mimetype": "text/x-python",
   "name": "python",
   "nbconvert_exporter": "python",
   "pygments_lexer": "ipython3",
   "version": "3.12.7"
  }
 },
 "nbformat": 4,
 "nbformat_minor": 5
}
